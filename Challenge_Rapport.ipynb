{
 "cells": [
  {
   "cell_type": "markdown",
   "metadata": {},
   "source": [
    "# SD210 - Data Challenge\n",
    "<p>*Pengfei MI*</p>\n",
    "<p>*21/04/2017*</p>"
   ]
  },
  {
   "cell_type": "code",
   "execution_count": 1,
   "metadata": {
    "collapsed": true
   },
   "outputs": [],
   "source": [
    "%matplotlib inline\n",
    "import numpy as np\n",
    "import matplotlib.pyplot as plt\n",
    "import pandas as pd\n",
    "\n",
    "# Critere de performance\n",
    "def compute_pred_score(y_true, y_pred):\n",
    "    y_pred_unq =  np.unique(y_pred)\n",
    "    for i in y_pred_unq:\n",
    "        if((i != -1) & (i!= 1) & (i!= 0) ):\n",
    "            raise ValueError('The predictions can contain only -1, 1, or 0!')\n",
    "    y_comp = y_true * y_pred\n",
    "    score = float(10*np.sum(y_comp == -1) + np.sum(y_comp == 0))\n",
    "    score /= y_comp.shape[0]\n",
    "    return score\n",
    "\n",
    "X_train_fname = '../data/training_templates.csv'\n",
    "y_train_fname = '../data/training_labels.txt'\n",
    "X_test_fname  = '../data/testing_templates.csv'\n",
    "X_train = pd.read_csv(X_train_fname, sep=',', header=None).values\n",
    "X_test  = pd.read_csv(X_test_fname,  sep=',', header=None).values\n",
    "y_train = np.loadtxt(y_train_fname, dtype=np.int)"
   ]
  },
  {
   "cell_type": "markdown",
   "metadata": {},
   "source": [
    "## Partie 1: Investigation des données"
   ]
  },
  {
   "cell_type": "code",
   "execution_count": 2,
   "metadata": {
    "collapsed": false
   },
   "outputs": [
    {
     "name": "stdout",
     "output_type": "stream",
     "text": [
      "(105600, 128) (8496, 128) (105600,)\n",
      "n_samples : 105600, n_features : 128\n",
      "0.0 [-1  1]\n"
     ]
    }
   ],
   "source": [
    "print X_train.shape, X_test.shape, y_train.shape\n",
    "print('n_samples : %d, n_features : %d' % X_train.shape)\n",
    "print np.mean(y_train), np.unique(y_train)"
   ]
  },
  {
   "cell_type": "markdown",
   "metadata": {},
   "source": [
    "On a vu que l'ensemble d'entraînement est parfaitement équilibré.\n",
    "\n",
    "Maintenant, on fait une standardisation et l'ACP dans l'ensemble d'entraînement, pour connaître comment les variables explicatives expliquent la variance."
   ]
  },
  {
   "cell_type": "code",
   "execution_count": 6,
   "metadata": {
    "collapsed": false
   },
   "outputs": [
    {
     "data": {
      "image/png": "[encoded data removed]",
      "text/plain": [
       "<matplotlib.figure.Figure at 0x14e0954d0>"
      ]
     },
     "metadata": {},
     "output_type": "display_data"
    }
   ],
   "source": [
    "from sklearn.preprocessing import StandardScaler\n",
    "from sklearn.decomposition import PCA\n",
    "\n",
    "scaler = StandardScaler()\n",
    "pca = PCA()\n",
    "\n",
    "X_train_scaled = scaler.fit_transform(X_train)\n",
    "X_train_pca = pca.fit_transform(X_train_scaled)\n",
    "\n",
    "ratio_sum = pca.explained_variance_ratio_.cumsum()\n",
    "\n",
    "plt.figure(1)\n",
    "plt.title(\"The explained variance according to number of components\")\n",
    "plt.plot(range(1, len(ratio_sum)+1), ratio_sum)\n",
    "plt.xlim(1, len(ratio_sum)+1)\n",
    "plt.ylim(0, 1)\n",
    "plt.xlabel(\"Number of components\")\n",
    "plt.ylabel(\"The ratio of explained variance\")\n",
    "plt.show()"
   ]
  },
  {
   "cell_type": "markdown",
   "metadata": {},
   "source": [
    "Selon le dessin, on peut voir que la courbe n'est pas très escarpé. Desormais, on va utiliser tous les variables explicatives, de plus, on utilise les données après ACP."
   ]
  },
  {
   "cell_type": "markdown",
   "metadata": {},
   "source": [
    "## Partie 2: Utilisation des classifieurs différents et la recherche des hyperparamètres optimals"
   ]
  },
  {
   "cell_type": "markdown",
   "metadata": {},
   "source": [
    "### 2.1 Logistic Regression"
   ]
  },
  {
   "cell_type": "code",
   "execution_count": null,
   "metadata": {
    "collapsed": true
   },
   "outputs": [],
   "source": []
  }
 ],
 "metadata": {
  "kernelspec": {
   "display_name": "Python 2",
   "language": "python",
   "name": "python2"
  },
  "language_info": {
   "codemirror_mode": {
    "name": "ipython",
    "version": 2
   },
   "file_extension": ".py",
   "mimetype": "text/x-python",
   "name": "python",
   "nbconvert_exporter": "python",
   "pygments_lexer": "ipython2",
   "version": "2.7.13"
  }
 },
 "nbformat": 4,
 "nbformat_minor": 2
}
