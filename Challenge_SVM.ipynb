{
 "cells": [
  {
   "cell_type": "code",
   "execution_count": 1,
   "metadata": {
    "collapsed": true
   },
   "outputs": [],
   "source": [
    "%matplotlib inline\n",
    "import numpy as np\n",
    "import matplotlib.pyplot as plt\n",
    "import pandas as pd\n",
    "from time import time\n",
    "import random\n",
    "\n",
    "from sklearn.preprocessing import StandardScaler\n",
    "from sklearn.model_selection import GridSearchCV\n",
    "from sklearn.metrics import classification_report\n",
    "from sklearn.model_selection import train_test_split"
   ]
  },
  {
   "cell_type": "code",
   "execution_count": 2,
   "metadata": {
    "collapsed": true
   },
   "outputs": [],
   "source": [
    "# Critere de performance\n",
    "def compute_pred_score(y_true, y_pred):\n",
    "    y_pred_unq =  np.unique(y_pred)\n",
    "    for i in y_pred_unq:\n",
    "        if((i != -1) & (i!= 1) & (i!= 0) ):\n",
    "            raise ValueError('The predictions can contain only -1, 1, or 0!')\n",
    "    y_comp = y_true * y_pred\n",
    "    score = float(10*np.sum(y_comp == -1) + np.sum(y_comp == 0))\n",
    "    score /= y_comp.shape[0]\n",
    "    return score"
   ]
  },
  {
   "cell_type": "code",
   "execution_count": 3,
   "metadata": {
    "collapsed": true
   },
   "outputs": [],
   "source": [
    "X_train_fname = '../data/training_templates.csv'\n",
    "y_train_fname = '../data/training_labels.txt'\n",
    "X_test_fname  = '../data/testing_templates.csv'\n",
    "X_train = pd.read_csv(X_train_fname, sep=',', header=None).values\n",
    "X_test  = pd.read_csv(X_test_fname,  sep=',', header=None).values\n",
    "y_train = np.loadtxt(y_train_fname, dtype=np.int)"
   ]
  },
  {
   "cell_type": "code",
   "execution_count": 4,
   "metadata": {
    "collapsed": false
   },
   "outputs": [
    {
     "ename": "AttributeError",
     "evalue": "'numpy.ndarray' object has no attribute 'append'",
     "output_type": "error",
     "traceback": [
      "\u001b[1;31m---------------------------------------------------------------------------\u001b[0m",
      "\u001b[1;31mAttributeError\u001b[0m                            Traceback (most recent call last)",
      "\u001b[1;32m<ipython-input-4-68d5f12e684f>\u001b[0m in \u001b[0;36m<module>\u001b[1;34m()\u001b[0m\n\u001b[0;32m      8\u001b[0m \u001b[1;33m\u001b[0m\u001b[0m\n\u001b[0;32m      9\u001b[0m params = {'C': np.logspace(-3, 3, 7),\n\u001b[1;32m---> 10\u001b[1;33m           'gamma': np.logspace(-6, -2, 5).append('auto')}\n\u001b[0m\u001b[0;32m     11\u001b[0m \u001b[1;33m\u001b[0m\u001b[0m\n\u001b[0;32m     12\u001b[0m \u001b[0mclf\u001b[0m \u001b[1;33m=\u001b[0m \u001b[0mGridSearchCV\u001b[0m\u001b[1;33m(\u001b[0m\u001b[0mSVC\u001b[0m\u001b[1;33m(\u001b[0m\u001b[0mkernel\u001b[0m\u001b[1;33m=\u001b[0m\u001b[1;34m'rbf'\u001b[0m\u001b[1;33m,\u001b[0m \u001b[0mprobability\u001b[0m\u001b[1;33m=\u001b[0m\u001b[0mTrue\u001b[0m\u001b[1;33m)\u001b[0m\u001b[1;33m,\u001b[0m \u001b[0mparams\u001b[0m\u001b[1;33m,\u001b[0m \u001b[0mcv\u001b[0m\u001b[1;33m=\u001b[0m\u001b[1;36m5\u001b[0m\u001b[1;33m,\u001b[0m \u001b[0mn_jobs\u001b[0m\u001b[1;33m=\u001b[0m\u001b[1;33m-\u001b[0m\u001b[1;36m1\u001b[0m\u001b[1;33m)\u001b[0m\u001b[1;33m\u001b[0m\u001b[0m\n",
      "\u001b[1;31mAttributeError\u001b[0m: 'numpy.ndarray' object has no attribute 'append'"
     ]
    }
   ],
   "source": [
    "from sklearn.svm import SVC\n",
    "\n",
    "random.seed(42)\n",
    "\n",
    "t0 = time()\n",
    "\n",
    "X_train_SVM1, X_train_SVM2, y_train_SVM1, y_train_SVM2 = train_test_split(X_train, y_train, test_size=0.5)\n",
    "\n",
    "params = {'C': np.logspace(-3, 3, 7),\n",
    "          'gamma': np.concatenate((np.logspace(-5, -2, 4), ['auto']), axis=0)}\n",
    "\n",
    "clf = GridSearchCV(SVC(kernel='rbf', probability=True), params, cv=5, n_jobs=-1)\n",
    "clf.fit(X_train_SVM1, y_train_SVM1)\n",
    "\n",
    "print(\"Best parameters set found on training set:\")\n",
    "print(clf.best_params_)\n",
    "print '\\n'\n",
    "\n",
    "print(\"Detailed classification report:\")\n",
    "print(\"The model is trained on the full training set with cross validation.\")\n",
    "print(\"The scores are computed on the full training set.\")\n",
    "y_true, y_pred = y_train, clf.predict(X_train)\n",
    "print(classification_report(y_true, y_pred))\n",
    "\n",
    "print \"Done in %0.3fs.\" % (time()-t0)"
   ]
  },
  {
   "cell_type": "code",
   "execution_count": null,
   "metadata": {
    "collapsed": true
   },
   "outputs": [],
   "source": [
    "y_pred_train = clf.predict(X_train)\n",
    "score = compute_pred_score(y_train, y_pred_train)\n",
    "print('Score sur le train : %s' % score)"
   ]
  },
  {
   "cell_type": "code",
   "execution_count": null,
   "metadata": {
    "collapsed": true
   },
   "outputs": [],
   "source": [
    "y_pred_proba_train = clf.predict_proba(X_train_scaled)"
   ]
  },
  {
   "cell_type": "code",
   "execution_count": null,
   "metadata": {
    "collapsed": true
   },
   "outputs": [],
   "source": [
    "bins = np.arange(0.5, 1.0, 0.01)\n",
    "plt.figure(1, figsize=(8,6))\n",
    "plt.hist(y_pred_proba_train, bins=bins)\n",
    "plt.title('The Histogram of pred_proba on Training Set')\n",
    "plt.xlim(0.5, 1)\n",
    "plt.xlabel('The Maximum probability')\n",
    "plt.ylabel('Count')\n",
    "plt.show()"
   ]
  },
  {
   "cell_type": "code",
   "execution_count": null,
   "metadata": {
    "collapsed": true
   },
   "outputs": [],
   "source": [
    "def error_rate(y_true, y_pred, y_pred_proba):\n",
    "    y_pred_proba_max = np.amax(y_pred_proba, axis=1)\n",
    "    rate = []\n",
    "    bins = np.linspace(0.51, 1.00, 50)\n",
    "    for b in bins:\n",
    "        idx = (y_pred_proba_max < b) & (y_pred_proba_max >= b-0.01)\n",
    "        y_t = y_true[idx]\n",
    "        y_p = y_pred[idx]\n",
    "        error = np.sum(y_t*y_p == -1)\n",
    "        rate.append(float(error) / len(y_p))\n",
    "    return rate\n",
    "\n",
    "error_rate = error_rate(y_train, y_pred_train, y_pred_proba_train)\n",
    "proba = np.linspace(0.51, 1.00, 50)\n",
    "plt.figure(2, figsize=(8,6))\n",
    "plt.xlim(0.5, 1)\n",
    "plt.ylim(0, 0.6)\n",
    "plt.plot(proba, error_rate)\n",
    "plt.show()"
   ]
  },
  {
   "cell_type": "code",
   "execution_count": null,
   "metadata": {
    "collapsed": true
   },
   "outputs": [],
   "source": [
    "y_pred = clf.predict(X_test_scaled)\n",
    "y_pred_proba = clf.predict_proba(X_test_scaled)\n",
    "for i in range(len(y_pred)):\n",
    "    if max(y_pred_proba[i, :]) < 0.90:\n",
    "        y_pred[i] = 0\n",
    "np.savetxt('y_pred_SVM_0.90.txt', y_pred, fmt='%d')\n",
    "\n",
    "for i in range(len(y_pred)):\n",
    "    if max(y_pred_proba[i, :]) < 0.95:\n",
    "        y_pred[i] = 0\n",
    "np.savetxt('y_pred_SVM_0.95.txt', y_pred, fmt='%d')"
   ]
  }
 ],
 "metadata": {
  "kernelspec": {
   "display_name": "Python 2",
   "language": "python",
   "name": "python2"
  },
  "language_info": {
   "codemirror_mode": {
    "name": "ipython",
    "version": 2
   },
   "file_extension": ".py",
   "mimetype": "text/x-python",
   "name": "python",
   "nbconvert_exporter": "python",
   "pygments_lexer": "ipython2",
   "version": "2.7.12"
  }
 },
 "nbformat": 4,
 "nbformat_minor": 2
}
