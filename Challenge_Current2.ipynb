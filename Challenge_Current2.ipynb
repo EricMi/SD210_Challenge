{
 "cells": [
  {
   "cell_type": "code",
   "execution_count": 1,
   "metadata": {
    "collapsed": true
   },
   "outputs": [],
   "source": [
    "%matplotlib inline\n",
    "import numpy as np\n",
    "import matplotlib.pyplot as plt\n",
    "import pandas as pd\n",
    "from time import time\n",
    "import random"
   ]
  },
  {
   "cell_type": "code",
   "execution_count": 2,
   "metadata": {
    "collapsed": true
   },
   "outputs": [],
   "source": [
    "# Critere de performance\n",
    "def compute_pred_score(y_true, y_pred):\n",
    "    y_pred_unq =  np.unique(y_pred)\n",
    "    for i in y_pred_unq:\n",
    "        if((i != -1) & (i!= 1) & (i!= 0) ):\n",
    "            raise ValueError('The predictions can contain only -1, 1, or 0!')\n",
    "    y_comp = y_true * y_pred\n",
    "    score = float(10*np.sum(y_comp == -1) + np.sum(y_comp == 0))\n",
    "    score /= y_comp.shape[0]\n",
    "    return score"
   ]
  },
  {
   "cell_type": "code",
   "execution_count": 3,
   "metadata": {
    "collapsed": false
   },
   "outputs": [],
   "source": [
    "X_train_fname = '../data/training_templates.csv'\n",
    "y_train_fname = '../data/training_labels.txt'\n",
    "X_test_fname  = '../data/testing_templates.csv'\n",
    "X_train = pd.read_csv(X_train_fname, sep=',', header=None).values\n",
    "X_test  = pd.read_csv(X_test_fname,  sep=',', header=None).values\n",
    "y_train = np.loadtxt(y_train_fname, dtype=np.int)"
   ]
  },
  {
   "cell_type": "code",
   "execution_count": 4,
   "metadata": {
    "collapsed": false
   },
   "outputs": [
    {
     "name": "stdout",
     "output_type": "stream",
     "text": [
      "Detailed classification report:\n",
      "The model is trained on the full training set with cross validation.\n",
      "The scores are computed on the full training set.\n",
      "             precision    recall  f1-score   support\n",
      "\n",
      "         -1       1.00      1.00      1.00     52800\n",
      "          1       1.00      1.00      1.00     52800\n",
      "\n",
      "avg / total       1.00      1.00      1.00    105600\n",
      "\n",
      "Done in 3428.887s.\n"
     ]
    }
   ],
   "source": [
    "from sklearn.preprocessing import StandardScaler\n",
    "from sklearn.neural_network import MLPClassifier\n",
    "from sklearn.model_selection import GridSearchCV\n",
    "from sklearn.model_selection import train_test_split\n",
    "from sklearn.ensemble import BaggingClassifier\n",
    "from sklearn.metrics import classification_report\n",
    "from sklearn.metrics import roc_auc_score\n",
    "\n",
    "random.seed(42)\n",
    "\n",
    "t0 = time()\n",
    "\n",
    "\"\"\"\n",
    "# Construct new training set according to the portion of the two classes in test set.\n",
    "X_train1 = X_train[y_train == 1]\n",
    "X_train2 = X_train[y_train == -1]\n",
    "indices = np.random.permutation((y_train == -1).sum())\n",
    "indices = indices[:(y_train == -1).sum()/3]\n",
    "\n",
    "X_train = np.r_[X_train1, X_train2[indices]]\n",
    "y_train = np.r_[np.ones((y_train == 1).sum()), -np.ones((y_train == -1).sum()/3)].astype(np.int)\n",
    "print X_train.shape, y_train.shape\n",
    "print np.mean(y_train), np.unique(y_train)\n",
    "\"\"\"\n",
    "\n",
    "scaler = StandardScaler()\n",
    "X_train = scaler.fit_transform(X_train)\n",
    "X_test = scaler.transform(X_test)\n",
    "\n",
    "#clf = GridSearchCV(BaggingClassifier(max_samples=0.7, max_features=0.7, bootstrap=True, bootstrap_features=True), params, scoring='roc_auc', cv=2, n_jobs=-1)\n",
    "nn = MLPClassifier(hidden_layer_sizes=(256, 256, 256), alpha=1e-5, tol=1e-5)\n",
    "clf = BaggingClassifier(base_estimator=nn, n_estimators=100, max_samples=0.5, max_features=0.7, bootstrap=True, bootstrap_features=True, n_jobs=-1)\n",
    "clf.fit(X_train, y_train)\n",
    "\n",
    "#print(\"Best parameters set found on training set:\")\n",
    "#print(clf.best_params_)\n",
    "#print '\\n'\n",
    "\n",
    "print(\"Detailed classification report:\")\n",
    "print(\"The model is trained on the full training set with cross validation.\")\n",
    "print(\"The scores are computed on the full training set.\")\n",
    "y_true, y_pred = y_train, clf.predict(X_train)\n",
    "print(classification_report(y_true, y_pred))\n",
    "\n",
    "print \"Done in %0.3fs.\" % (time()-t0)"
   ]
  },
  {
   "cell_type": "code",
   "execution_count": 5,
   "metadata": {
    "collapsed": false,
    "scrolled": false
   },
   "outputs": [
    {
     "name": "stdout",
     "output_type": "stream",
     "text": [
      "Score sur le train : 0.0354166666667\n",
      "Score sur le train : 0.0962215909091\n"
     ]
    }
   ],
   "source": [
    "y_pred_train = clf.predict(X_train)\n",
    "y_pred_proba_train = clf.predict_proba(X_train)\n",
    "\n",
    "score = compute_pred_score(y_train, y_pred_train)\n",
    "print('Score sur le train : %s' % score)\n",
    "\n",
    "for i in range(len(y_pred_train)):\n",
    "    if max(y_pred_proba_train[i, :]) < 0.90:\n",
    "        y_pred_train[i] = 0\n",
    "score = compute_pred_score(y_train, y_pred_train)\n",
    "print('Score sur le train : %s' % score)"
   ]
  },
  {
   "cell_type": "code",
   "execution_count": 6,
   "metadata": {
    "collapsed": false,
    "scrolled": false
   },
   "outputs": [
    {
     "data": {
      "image/png": "[encoded data removed]",
      "text/plain": [
       "<matplotlib.figure.Figure at 0x7ff6dfb06310>"
      ]
     },
     "metadata": {},
     "output_type": "display_data"
    }
   ],
   "source": [
    "bins = np.arange(0.5, 1.0, 0.01)\n",
    "plt.figure(1, figsize=(8,6))\n",
    "plt.hist(y_pred_proba_train, bins=bins)\n",
    "plt.title('The Histogram of pred_proba on Training Set')\n",
    "plt.xlim(0.5, 1)\n",
    "plt.xlabel('The Maximum probability')\n",
    "plt.ylabel('Count')\n",
    "plt.show()"
   ]
  },
  {
   "cell_type": "code",
   "execution_count": 7,
   "metadata": {
    "collapsed": false
   },
   "outputs": [
    {
     "data": {
      "image/png": "[encoded data removed]",
      "text/plain": [
       "<matplotlib.figure.Figure at 0x7ff6d8f3c550>"
      ]
     },
     "metadata": {},
     "output_type": "display_data"
    }
   ],
   "source": [
    "def error_rate(y_true, y_pred, y_pred_proba):\n",
    "    y_pred_proba_max = np.amax(y_pred_proba, axis=1)\n",
    "    rate = []\n",
    "    bins = np.linspace(0.51, 1.00, 50)\n",
    "    for b in bins:\n",
    "        idx = (y_pred_proba_max < b) & (y_pred_proba_max >= b-0.01)\n",
    "        y_t = y_true[idx]\n",
    "        y_p = y_pred[idx]\n",
    "        error = np.sum(y_t*y_p == -1)\n",
    "        rate.append(float(error) / len(y_p))\n",
    "    return rate\n",
    "\n",
    "y_pred_train = clf.predict(X_train)\n",
    "y_pred_proba_train = clf.predict_proba(X_train)\n",
    "\n",
    "error_rate = error_rate(y_train, y_pred_train, y_pred_proba_train)\n",
    "proba = np.linspace(0.51, 1.00, 50)\n",
    "plt.figure(2, figsize=(8,6))\n",
    "plt.xlim(0.5, 1)\n",
    "plt.ylim(0, 0.6)\n",
    "plt.plot(proba, error_rate)\n",
    "plt.show()"
   ]
  },
  {
   "cell_type": "code",
   "execution_count": 22,
   "metadata": {
    "collapsed": false
   },
   "outputs": [
    {
     "name": "stdout",
     "output_type": "stream",
     "text": [
      "6599 1897\n"
     ]
    }
   ],
   "source": [
    "y_pred = clf.predict(X_test)\n",
    "print (y_pred==1).sum(), (y_pred==-1).sum()\n",
    "np.savetxt('y_pred_bagging2.txt', y_pred, fmt='%d')\n",
    "y_pred_proba = clf.predict_proba(X_test)"
   ]
  },
  {
   "cell_type": "code",
   "execution_count": 24,
   "metadata": {
    "collapsed": false
   },
   "outputs": [],
   "source": [
    "y_output = y_pred[:]\n",
    "for i in range(len(y_pred)):\n",
    "    if max(y_pred_proba[i, :]) < 0.70:\n",
    "        y_output[i] = 0\n",
    "np.savetxt('y_pred_bagging2_0.70.txt', y_output, fmt='%d')\n",
    "\n",
    "for i in range(len(y_pred)):\n",
    "    if max(y_pred_proba[i, :]) < 0.705:\n",
    "        y_output[i] = 0\n",
    "np.savetxt('y_pred_bagging2_0.705.txt', y_output, fmt='%d')"
   ]
  }
 ],
 "metadata": {
  "kernelspec": {
   "display_name": "Python 2",
   "language": "python",
   "name": "python2"
  },
  "language_info": {
   "codemirror_mode": {
    "name": "ipython",
    "version": 2
   },
   "file_extension": ".py",
   "mimetype": "text/x-python",
   "name": "python",
   "nbconvert_exporter": "python",
   "pygments_lexer": "ipython2",
   "version": "2.7.12"
  }
 },
 "nbformat": 4,
 "nbformat_minor": 2
}
