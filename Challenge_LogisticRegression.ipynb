{
 "cells": [
  {
   "cell_type": "code",
   "execution_count": 1,
   "metadata": {
    "collapsed": true
   },
   "outputs": [],
   "source": [
    "%matplotlib inline\n",
    "import numpy as np\n",
    "import matplotlib.pyplot as plt\n",
    "import pandas as pd"
   ]
  },
  {
   "cell_type": "code",
   "execution_count": 2,
   "metadata": {
    "collapsed": true
   },
   "outputs": [],
   "source": [
    "# Critere de performance\n",
    "def compute_pred_score(y_true, y_pred):\n",
    "    y_pred_unq =  np.unique(y_pred)\n",
    "    for i in y_pred_unq:\n",
    "        if((i != -1) & (i!= 1) & (i!= 0) ):\n",
    "            raise ValueError('The predictions can contain only -1, 1, or 0!')\n",
    "    y_comp = y_true * y_pred\n",
    "    score = float(10*np.sum(y_comp == -1) + np.sum(y_comp == 0))\n",
    "    score /= y_comp.shape[0]\n",
    "    return score"
   ]
  },
  {
   "cell_type": "code",
   "execution_count": 3,
   "metadata": {
    "collapsed": true
   },
   "outputs": [],
   "source": [
    "X_train_fname = 'training_templates.csv'\n",
    "y_train_fname = 'training_labels.txt'\n",
    "X_test_fname  = 'testing_templates.csv'\n",
    "X_train = pd.read_csv(X_train_fname, sep=',', header=None).values\n",
    "X_test  = pd.read_csv(X_test_fname,  sep=',', header=None).values\n",
    "y_train = np.loadtxt(y_train_fname, dtype=np.int)"
   ]
  },
  {
   "cell_type": "markdown",
   "metadata": {},
   "source": [
    "### 1) Logistic Regression"
   ]
  },
  {
   "cell_type": "code",
   "execution_count": 33,
   "metadata": {
    "collapsed": false
   },
   "outputs": [
    {
     "name": "stdout",
     "output_type": "stream",
     "text": [
      "Use l1 penalty:\n",
      "done in 204.913s\n",
      "Score sur le train : 0.635700757576\n",
      "Use l2 penalty:\n",
      "done in 173.663s\n",
      "Score sur le train : 0.635511363636\n"
     ]
    },
    {
     "data": {
      "text/plain": [
       "\"\\n# Fit model\\nclf = LogisticRegression()\\nclf.fit(X_train_scaled, y_train)\\n\\n# Prediction\\ny_pred_train =  clf.predict(X_train_scaled)\\n\\n# Compute the score\\nscore = compute_pred_score(y_train, y_pred_train)\\nprint('Score sur le train : %s' % score)\\n\""
      ]
     },
     "execution_count": 33,
     "metadata": {},
     "output_type": "execute_result"
    }
   ],
   "source": [
    "from sklearn.linear_model import LogisticRegression\n",
    "from sklearn.linear_model import LogisticRegressionCV\n",
    "from sklearn.metrics import roc_auc_score\n",
    "\n",
    "from sklearn.pipeline import Pipeline\n",
    "from sklearn.model_selection import GridSearchCV\n",
    "from sklearn.preprocessing import StandardScaler\n",
    "from sklearn.metrics import classification_report\n",
    "from time import time\n",
    "\n",
    "scaler = StandardScaler().fit(X_train)\n",
    "X_train_scaled = scaler.transform(X_train)\n",
    "X_test_scaled = scaler.transform(X_test)\n",
    "\n",
    "\"\"\" Grid Search\n",
    "tuned_parameters = [{'penalty': ['l1'], 'C': np.logspace(-1, 2, 20), 'solver': ['liblinear']},\n",
    "                    {'penalty': ['l2'], 'C': np.logspace(-1, 2, 20), 'solver': ['sag']}]\n",
    "\n",
    "clf = GridSearchCV(LogisticRegression(), tuned_parameters, cv=5)\n",
    "\n",
    "t0 = time()  \n",
    "clf.fit(X_train_scaled, y_train)\n",
    "print(\"done in %0.3fs\" % (time() - t0))\n",
    "\n",
    "print(\"Best score: %0.3f\" % clf.best_score_)\n",
    "\"\"\"\n",
    "t0 = time()\n",
    "print \"Use l1 penalty:\"\n",
    "clf1 = LogisticRegressionCV(penalty='l1', Cs=20, solver='liblinear', cv=5, refit=True, scoring='roc_auc')\n",
    "clf1.fit(X_train_scaled, y_train)\n",
    "y_pred_train1 = clf1.predict(X_train_scaled)\n",
    "score = compute_pred_score(y_train, y_pred_train1)\n",
    "print(\"done in %0.3fs\" % (time() - t0))\n",
    "print('Score sur le train : %s' % score)\n",
    "\n",
    "print \"Use l2 penalty:\"\n",
    "t0 = time()\n",
    "clf2 = LogisticRegressionCV(penalty='l2', Cs=20, solver='sag', cv=5, refit=True, scoring='roc_auc')\n",
    "clf2.fit(X_train_scaled, y_train)\n",
    "y_pred_train2 = clf2.predict(X_train_scaled)\n",
    "score = compute_pred_score(y_train, y_pred_train2)\n",
    "print(\"done in %0.3fs\" % (time() - t0))\n",
    "print('Score sur le train : %s' % score)\n",
    "\n",
    "\"\"\"\n",
    "# Fit model\n",
    "clf = LogisticRegression()\n",
    "clf.fit(X_train_scaled, y_train)\n",
    "\n",
    "# Prediction\n",
    "y_pred_train =  clf.predict(X_train_scaled)\n",
    "\n",
    "# Compute the score\n",
    "score = compute_pred_score(y_train, y_pred_train)\n",
    "print('Score sur le train : %s' % score)\n",
    "\"\"\""
   ]
  },
  {
   "cell_type": "code",
   "execution_count": 6,
   "metadata": {
    "collapsed": true
   },
   "outputs": [],
   "source": [
    "y_pred = clf.predict(X_test)\n",
    "np.savetxt('y_pred.txt', y_pred, fmt='%d')"
   ]
  }
 ],
 "metadata": {
  "kernelspec": {
   "display_name": "Python 2",
   "language": "python",
   "name": "python2"
  },
  "language_info": {
   "codemirror_mode": {
    "name": "ipython",
    "version": 2
   },
   "file_extension": ".py",
   "mimetype": "text/x-python",
   "name": "python",
   "nbconvert_exporter": "python",
   "pygments_lexer": "ipython2",
   "version": "2.7.13"
  }
 },
 "nbformat": 4,
 "nbformat_minor": 2
}
